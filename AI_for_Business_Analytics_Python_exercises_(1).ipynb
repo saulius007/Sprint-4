{
  "nbformat": 4,
  "nbformat_minor": 0,
  "metadata": {
    "colab": {
      "provenance": [],
      "toc_visible": true
    },
    "kernelspec": {
      "name": "python3",
      "display_name": "Python 3"
    },
    "language_info": {
      "name": "python"
    }
  },
  "cells": [
    {
      "cell_type": "markdown",
      "source": [
        "# Exercise 1: Write a function to calculate fuel costs for a road trip by multiplying the fuel spent by the fuel price per kilometer."
      ],
      "metadata": {
        "id": "J443KC5iabkF"
      }
    },
    {
      "cell_type": "code",
      "source": [
        "# @title Write your code in this cell.\n",
        "fuel_spent_km = 50\n",
        "fuel_price_per_km = 0.10\n",
        "fuel_cost = fuel_spent_km * fuel_price_per_km\n",
        "print(fuel_cost)"
      ],
      "metadata": {
        "id": "w8hzZZUEaj_N",
        "colab": {
          "base_uri": "https://localhost:8080/"
        },
        "outputId": "2762ece4-43c8-4df3-f2a6-83fc03289b7d"
      },
      "execution_count": null,
      "outputs": [
        {
          "output_type": "stream",
          "name": "stdout",
          "text": [
            "5.0\n"
          ]
        }
      ]
    },
    {
      "cell_type": "code",
      "execution_count": null,
      "metadata": {
        "cellView": "form",
        "id": "zTsKFYU1V4s9"
      },
      "outputs": [],
      "source": [
        "# @title Click here to reveal the solution.\n",
        "def calculate_fuel_cost(fuel_spent: float, fuel_price_per_km: float) -> float:\n",
        "    \"\"\"\n",
        "    Calculate the total fuel cost for a road trip.\n",
        "\n",
        "    :param fuel_spent: The total fuel consumed (liters or gallons).\n",
        "    :param fuel_price_per_km: The price of fuel per kilometer.\n",
        "    :return: The total fuel cost.\n",
        "    \"\"\"\n",
        "    return fuel_spent * fuel_price_per_km\n",
        "\n",
        "# Example usage\n",
        "fuel_spent = 50  # Total liters or gallons spent\n",
        "fuel_price_per_km = 0.10  # Price per km\n",
        "\n",
        "total_cost = calculate_fuel_cost(fuel_spent, fuel_price_per_km)\n",
        "print(f\"Total fuel cost: ${total_cost:.2f}\")"
      ]
    },
    {
      "cell_type": "markdown",
      "source": [
        "# Exercise 2: Write a program that can compute the factorial of a given number. The results should be printed in a comma-separated sequence on a single line."
      ],
      "metadata": {
        "id": "OXZlrXYvaeHu"
      }
    },
    {
      "cell_type": "code",
      "source": [
        "# @title Write your code in this cell.\n",
        "def factorial(n):\n",
        "    result = 1\n",
        "    for i in range(1, n + 1):\n",
        "        result *= i\n",
        "    return result\n",
        "\n",
        "factorials = []\n",
        "for i in range(6):\n",
        "    factorials.append(str(factorial(i)))\n",
        "\n",
        "print(\",\".join(factorials))"
      ],
      "metadata": {
        "id": "3l6Mbd7kaLUJ",
        "colab": {
          "base_uri": "https://localhost:8080/"
        },
        "outputId": "6fae0023-f24c-46e1-a02d-8ccbfda05f45"
      },
      "execution_count": null,
      "outputs": [
        {
          "output_type": "stream",
          "name": "stdout",
          "text": [
            "1,1,2,6,24,120\n"
          ]
        }
      ]
    },
    {
      "cell_type": "code",
      "source": [
        "# @title Click here to reveal the solution.\n",
        "import math\n",
        "\n",
        "def compute_factorials(n):\n",
        "    factorials = [math.factorial(i) for i in range(n + 1)]\n",
        "    print(\",\".join(map(str, factorials)))\n",
        "\n",
        "# Example usage\n",
        "num = int(input(\"Enter a number: \"))\n",
        "compute_factorials(num)"
      ],
      "metadata": {
        "cellView": "form",
        "id": "p4mCkUfnahT0"
      },
      "execution_count": null,
      "outputs": []
    },
    {
      "cell_type": "markdown",
      "source": [
        "# Exercise 3: When dining with friends, splitting the bill fairly is a common issue. Write a simple Python program to calculate how much each person should pay, including a tip.\n"
      ],
      "metadata": {
        "id": "s-tuJEgZahhi"
      }
    },
    {
      "cell_type": "code",
      "source": [
        "# @title Write your code in this cell.\n",
        "bill_sum = 100\n",
        "tip_percentage = 0.15\n",
        "total_bill = 100 + (100 * 0.15)\n",
        "num_people = 5\n",
        "print(total_bill)\n",
        "bill_per_person = total_bill / num_people\n",
        "print(bill_per_person)"
      ],
      "metadata": {
        "id": "ayiejMaRak-1",
        "colab": {
          "base_uri": "https://localhost:8080/"
        },
        "outputId": "4736e4b7-7e90-4ff6-9123-d0aaa6bae7e5"
      },
      "execution_count": null,
      "outputs": [
        {
          "output_type": "stream",
          "name": "stdout",
          "text": [
            "115.0\n",
            "23.0\n"
          ]
        }
      ]
    },
    {
      "cell_type": "code",
      "source": [
        "# @title Click here to reveal the solution.\n",
        "def split_bill():\n",
        "    try:\n",
        "        # Get user inputs\n",
        "        total_bill = float(input(\"Enter the total bill amount: $\"))\n",
        "        tip_percentage = float(input(\"Enter the tip percentage (e.g., 15 for 15%): \"))\n",
        "        num_people = int(input(\"Enter the number of people splitting the bill: \"))\n",
        "\n",
        "        # Validate inputs\n",
        "        if total_bill < 0 or tip_percentage < 0 or num_people <= 0:\n",
        "            print(\"Error: Please enter positive values.\")\n",
        "            return\n",
        "\n",
        "        # Calculate total bill with tip\n",
        "        total_with_tip = total_bill * (1 + tip_percentage / 100)\n",
        "\n",
        "        # Calculate amount per person\n",
        "        amount_per_person = total_with_tip / num_people\n",
        "\n",
        "        # Display result\n",
        "        print(f\"\\nEach person should pay: ${amount_per_person:.2f}\")\n",
        "\n",
        "    except ValueError:\n",
        "        print(\"Error: Please enter valid numeric values.\")\n",
        "\n",
        "# Run the function\n",
        "split_bill()"
      ],
      "metadata": {
        "id": "p2_9ef-gakIK",
        "cellView": "form"
      },
      "execution_count": null,
      "outputs": []
    },
    {
      "cell_type": "markdown",
      "source": [
        "# Exercise 4: Write a program to check if a password is strong by checking password size and special characters, numbers, and capital letters."
      ],
      "metadata": {
        "id": "rCEApr84akWv"
      }
    },
    {
      "cell_type": "code",
      "source": [
        "# @title Write your code in this cell.\n",
        "import re\n",
        "\n",
        "def is_strong_password(password):\n",
        "    # Define the strength criteria\n",
        "    min_length = 8\n",
        "    has_uppercase = re.search(r\"[A-Z]\", password)  # At least one uppercase letter\n",
        "    has_lowercase = re.search(r\"[a-z]\", password)  # At least one lowercase letter\n",
        "    has_number = re.search(r\"[0-9]\", password)  # At least one digit\n",
        "    has_special = re.search(r\"[!@#$%^&*(),.?\\\":{}|<>]\", password)  # At least one special character\n",
        "\n",
        "    # Check if all conditions are met\n",
        "    if len(password) >= min_length and has_uppercase and has_lowercase and has_number and has_special:\n",
        "        return \"Strong Password ✅\"\n",
        "    else:\n",
        "        return \"Weak Password ❌ - Make sure it has at least 8 characters, a number, a special character, and uppercase/lowercase letters.\"\n",
        "\n",
        "password_name = input(\"Enter a password to check: \")\n",
        "result = is_strong_password(password_name)\n",
        "print(result)"
      ],
      "metadata": {
        "id": "kAnZ0mLEalWo",
        "colab": {
          "base_uri": "https://localhost:8080/"
        },
        "outputId": "0fe8e55d-7fe7-442d-e315-b6e47a79d5a9"
      },
      "execution_count": null,
      "outputs": [
        {
          "output_type": "stream",
          "name": "stdout",
          "text": [
            "Enter a password to check: Germanas-007\n",
            "Weak Password ❌ - Make sure it has at least 8 characters, a number, a special character, and uppercase/lowercase letters.\n"
          ]
        }
      ]
    },
    {
      "cell_type": "code",
      "source": [
        "# @title Click here to reveal the solution.\n",
        "import re\n",
        "\n",
        "def is_strong_password(password):\n",
        "    # Define the strength criteria\n",
        "    min_length = 8\n",
        "    has_uppercase = re.search(r\"[A-Z]\", password)  # At least one uppercase letter\n",
        "    has_lowercase = re.search(r\"[a-z]\", password)  # At least one lowercase letter\n",
        "    has_number = re.search(r\"[0-9]\", password)  # At least one digit\n",
        "    has_special = re.search(r\"[!@#$%^&*(),.?\\\":{}|<>]\", password)  # At least one special character\n",
        "\n",
        "    # Check if all conditions are met\n",
        "    if len(password) >= min_length and has_uppercase and has_lowercase and has_number and has_special:\n",
        "        return \"Strong Password ✅\"\n",
        "    else:\n",
        "        return \"Weak Password ❌ - Make sure it has at least 8 characters, a number, a special character, and uppercase/lowercase letters.\"\n",
        "\n",
        "# Get user input\n",
        "password = input(\"Enter a password to check: \")\n",
        "\n",
        "# Check password strength\n",
        "result = is_strong_password(password)\n",
        "\n",
        "# Display the result\n",
        "print(result)"
      ],
      "metadata": {
        "cellView": "form",
        "id": "vG_K_m7uamW9"
      },
      "execution_count": null,
      "outputs": []
    }
  ]
}